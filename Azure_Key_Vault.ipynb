{
 "cells": [
  {
   "cell_type": "markdown",
   "id": "bb26f0cb-712b-424d-85f3-b7bae71f7dbc",
   "metadata": {},
   "source": [
    "##### pip install azure-identity\n",
    "##### pip install azure-keyvault-secrets\n",
    "\n",
    "#### Key Vault Creation\n",
    "\n",
    "##### az login\n",
    "##### az keyvault create --name {your-unique-keyvault-name} --resource-group {resource group name}\n",
    "\n",
    "Eg. az keyvault create --name testingAyanKeyVault --resource-group madasHealthChatBot\n",
    "\n",
    "#### Role Assignment\n",
    "\n",
    "#### az role assignment create --role \"Key Vault Secrets Officer\" --assignee \"{upn}\" --scope \"/subscriptions/{subscription-id}/resourceGroups/{resource-group-name}/providers/Microsoft.KeyVault/vaults/{your-unique-keyvault-name}\"\n",
    "\n",
    "Replace {upn}, {subscription-id}, {resource-group-name} and {your-unique-keyvault-name} with your actual values. Your UPN will typically be in the format of an email address (e.g., username@domain.com)."
   ]
  },
  {
   "cell_type": "code",
   "execution_count": 2,
   "id": "b7dd88f3-6f56-4774-9efa-bd6a46ac1c41",
   "metadata": {},
   "outputs": [],
   "source": [
    "import os\n",
    "from azure.keyvault.secrets import SecretClient\n",
    "from azure.identity import DefaultAzureCredential\n",
    "\n",
    "os.environ[\"KEY_VAULT_NAME\"] = \"testingAyanKeyVault\""
   ]
  },
  {
   "cell_type": "markdown",
   "id": "0814ab9d-5789-4809-a29e-8c7ee87d8061",
   "metadata": {},
   "source": [
    "#### Pushing Into Key Vault\n",
    "\n",
    "###### Cannot Run Again"
   ]
  },
  {
   "cell_type": "code",
   "execution_count": 8,
   "id": "76256746-7b03-442e-b6f1-4cef9a2a509d",
   "metadata": {},
   "outputs": [
    {
     "data": {
      "text/plain": [
       "<KeyVaultSecret [https://testingayankeyvault.vault.azure.net/secrets/azure-openai-endpoint-value/9f049eb368cf4c07a17ca2dc83420ae3]>"
      ]
     },
     "execution_count": 8,
     "metadata": {},
     "output_type": "execute_result"
    }
   ],
   "source": [
    "keyVaultName = os.environ[\"KEY_VAULT_NAME\"]\n",
    "KVUri = f\"https://{keyVaultName}.vault.azure.net\"\n",
    "\n",
    "credential = DefaultAzureCredential()\n",
    "client = SecretClient(vault_url=KVUri, credential=credential)\n",
    "\n",
    "secretName = \"azure-openai-endpoint-value\" # Name has to look like this  \n",
    "secretValue = \"https://sample-health-azureopenai-final.openai.azure.com/\"\n",
    "client.set_secret(secretName, secretValue) # SET Values"
   ]
  },
  {
   "cell_type": "markdown",
   "id": "8fabeb48-323c-404c-b941-d155effeec51",
   "metadata": {},
   "source": [
    "#### Retrieve Secret"
   ]
  },
  {
   "cell_type": "code",
   "execution_count": 4,
   "id": "b9e2d55e-7a45-4420-8b64-df3fa8b8bbbc",
   "metadata": {},
   "outputs": [
    {
     "data": {
      "text/plain": [
       "<KeyVaultSecret [https://testingayankeyvault.vault.azure.net/secrets/azure-openai-endpoint-value/9f049eb368cf4c07a17ca2dc83420ae3]>"
      ]
     },
     "execution_count": 4,
     "metadata": {},
     "output_type": "execute_result"
    }
   ],
   "source": [
    "keyVaultName = os.environ[\"KEY_VAULT_NAME\"]\n",
    "KVUri = f\"https://{keyVaultName}.vault.azure.net\"\n",
    "\n",
    "secretName = \"azure-openai-endpoint-value\" # Name has to look like this  \n",
    "\n",
    "credential = DefaultAzureCredential()\n",
    "client = SecretClient(vault_url=KVUri, credential=credential)\n",
    "\n",
    "retrieved_secret = client.get_secret(secretName)\n",
    "retrieved_secret"
   ]
  },
  {
   "cell_type": "code",
   "execution_count": 5,
   "id": "aadab550-bf1d-4ac8-aa1c-93c95dfddca2",
   "metadata": {},
   "outputs": [
    {
     "data": {
      "text/plain": [
       "'https://sample-health-azureopenai-final.openai.azure.com/'"
      ]
     },
     "execution_count": 5,
     "metadata": {},
     "output_type": "execute_result"
    }
   ],
   "source": [
    "retrieved_secret.value"
   ]
  },
  {
   "cell_type": "markdown",
   "id": "1380efd2-a8b1-4e7f-86b3-76ecdf5f839b",
   "metadata": {},
   "source": [
    "#### Delete Secret"
   ]
  },
  {
   "cell_type": "code",
   "execution_count": 11,
   "id": "cd1f81ae-97a2-4a68-9309-83e8f7decf61",
   "metadata": {},
   "outputs": [],
   "source": [
    "poller = client.begin_delete_secret(secretName)\n",
    "deleted_secret = poller.result()"
   ]
  },
  {
   "cell_type": "markdown",
   "id": "bde604da-d939-4ed0-9c0c-7ae59d524af5",
   "metadata": {},
   "source": [
    "#### Recover Deleted Secret"
   ]
  },
  {
   "cell_type": "code",
   "execution_count": 12,
   "id": "bca10b3c-7927-4bb5-88f3-765bf31a40ba",
   "metadata": {},
   "outputs": [
    {
     "data": {
      "text/plain": [
       "<SecretProperties [https://testingayankeyvault.vault.azure.net/secrets/azure-openai-endpoint-value/9f049eb368cf4c07a17ca2dc83420ae3]>"
      ]
     },
     "execution_count": 12,
     "metadata": {},
     "output_type": "execute_result"
    }
   ],
   "source": [
    "client.begin_recover_deleted_secret(secretName).result()"
   ]
  },
  {
   "cell_type": "markdown",
   "id": "bc053e0e-fa17-41ea-b195-543296d3165d",
   "metadata": {},
   "source": [
    "#### SIngle-Ton"
   ]
  },
  {
   "cell_type": "code",
   "execution_count": 3,
   "id": "14c0186c-c8ea-42a3-95fb-0a3f7f9a5f25",
   "metadata": {},
   "outputs": [],
   "source": [
    "import os\n",
    "from azure.identity import DefaultAzureCredential\n",
    "from azure.keyvault.secrets import SecretClient\n",
    "from threading import Lock\n",
    "\n",
    "os.environ[\"KEY_VAULT_NAME\"] = \"testingAyanKeyVault\"\n",
    "\n",
    "class AzureKeyVaultClient:\n",
    "    _instance = None\n",
    "    _lock = Lock()\n",
    "\n",
    "    def __new__(cls):\n",
    "        if cls._instance is None:\n",
    "            with cls._lock:\n",
    "                if cls._instance is None:\n",
    "                    cls._instance = super(AzureKeyVaultClient, cls).__new__(cls)\n",
    "                    cls._instance._initialize()\n",
    "        return cls._instance\n",
    "\n",
    "    def _initialize(self):\n",
    "        key_vault_name = os.environ[\"KEY_VAULT_NAME\"]\n",
    "        kv_uri = f\"https://{key_vault_name}.vault.azure.net\"\n",
    "        credential = DefaultAzureCredential()\n",
    "        self.client = SecretClient(vault_url=kv_uri, credential=credential)\n",
    "\n",
    "    def get_secret(self, secret_name):\n",
    "        return self.client.get_secret(secret_name).value\n"
   ]
  },
  {
   "cell_type": "code",
   "execution_count": 4,
   "id": "6e0d0452-061f-440c-b300-4c350e7ddbea",
   "metadata": {},
   "outputs": [
    {
     "data": {
      "text/plain": [
       "'https://sample-health-azureopenai-final.openai.azure.com/'"
      ]
     },
     "execution_count": 4,
     "metadata": {},
     "output_type": "execute_result"
    }
   ],
   "source": [
    "kv_client = AzureKeyVaultClient()\n",
    "openai_endpoint = kv_client.get_secret(\"azure-openai-endpoint-value\")\n",
    "openai_endpoint"
   ]
  },
  {
   "cell_type": "code",
   "execution_count": 5,
   "id": "59f3d9f3-1f6f-45f6-bb11-a16cd3fff30d",
   "metadata": {},
   "outputs": [
    {
     "data": {
      "text/plain": [
       "'https://sample-health-azureopenai-final.openai.azure.com/'"
      ]
     },
     "execution_count": 5,
     "metadata": {},
     "output_type": "execute_result"
    }
   ],
   "source": [
    "kv_client_two = AzureKeyVaultClient()\n",
    "openai_endpoint = kv_client_two.get_secret(\"azure-openai-endpoint-value\")\n",
    "openai_endpoint"
   ]
  },
  {
   "cell_type": "code",
   "execution_count": 6,
   "id": "3c815ad4-2b1a-4641-bf4d-f84e83a91460",
   "metadata": {},
   "outputs": [
    {
     "name": "stdout",
     "output_type": "stream",
     "text": [
      "kv1 id: 1748841083920\n",
      "kv2 id: 1748841083920\n",
      "Same instance? True\n"
     ]
    }
   ],
   "source": [
    "print(f\"kv1 id: {id(kv_client)}\")\n",
    "print(f\"kv2 id: {id(kv_client_two)}\")\n",
    "print(\"Same instance?\", kv_client is kv_client_two)"
   ]
  },
  {
   "cell_type": "code",
   "execution_count": null,
   "id": "7e95a5f4-f44c-4ed8-a4a4-7d4e47ee9933",
   "metadata": {},
   "outputs": [],
   "source": []
  }
 ],
 "metadata": {
  "kernelspec": {
   "display_name": "Python 3 (ipykernel)",
   "language": "python",
   "name": "python3"
  },
  "language_info": {
   "codemirror_mode": {
    "name": "ipython",
    "version": 3
   },
   "file_extension": ".py",
   "mimetype": "text/x-python",
   "name": "python",
   "nbconvert_exporter": "python",
   "pygments_lexer": "ipython3",
   "version": "3.12.3"
  }
 },
 "nbformat": 4,
 "nbformat_minor": 5
}
